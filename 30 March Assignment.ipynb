{
 "cells": [
  {
   "cell_type": "code",
   "execution_count": null,
   "id": "32bd50cb-2994-4a3c-ba22-a10558e31408",
   "metadata": {},
   "outputs": [],
   "source": [
    "Q1. What is Elastic Net Regression and how does it differ from other regression techniques?"
   ]
  },
  {
   "cell_type": "markdown",
   "id": "e9457efc-9d36-4baa-b2af-761eae256d8e",
   "metadata": {},
   "source": [
    "ANS-"
   ]
  },
  {
   "cell_type": "code",
   "execution_count": null,
   "id": "78138e3b-f44d-4777-b39f-3b9c42bceafe",
   "metadata": {},
   "outputs": [],
   "source": [
    "Elastic Net Regression is a linear regression technique that combines two of the most often used regularized linear regression techniques,\n",
    "Lasso and Ridge. It is used to deal with multicollinearity issues when they arise between predictor variables. The Elastic-Net is a \n",
    "regularised regression method that linearly combines both penalties i.e. L1 and L2 of the Lasso and Ridge regression methods.\n",
    "The penalty term is a combination of the l1-norm (absolute value) and the l2-norm (square) of the coefficients, weighted by a parameter\n",
    "called alpha.\n",
    "\n",
    "The difference between Elastic Net Regression and other regression techniques is that it uses both L1 and L2 regularization techniques. \n",
    "Ridge Regression uses only L2 regularization while Lasso Regression uses only L1 regularization."
   ]
  },
  {
   "cell_type": "code",
   "execution_count": null,
   "id": "78c2b8d8-611e-4504-bb7b-9ef30aef0b7f",
   "metadata": {},
   "outputs": [],
   "source": []
  },
  {
   "cell_type": "code",
   "execution_count": null,
   "id": "bf30c55b-510f-4f30-be3a-440c0f9f665d",
   "metadata": {},
   "outputs": [],
   "source": [
    "Q2. How do you choose the optimal values of the regularization parameters for Elastic Net Regression?"
   ]
  },
  {
   "cell_type": "markdown",
   "id": "57825e30-76c4-4fae-a2f5-b89c3fee89cd",
   "metadata": {},
   "source": [
    "ANS-"
   ]
  },
  {
   "cell_type": "code",
   "execution_count": null,
   "id": "1398feb7-2f8f-4d35-a75a-a98a25b7d27c",
   "metadata": {},
   "outputs": [],
   "source": [
    "There are different ways to choose the optimal values of the regularization parameters for elastic net regression. One way is to choose \n",
    "an alpha value between 0 and 1 to optimize the Elastic Net and this will shrink some coefficients and set some to 0 for sparse selection.\n",
    "Another way is to perform cross-validation and select the value of λ that minimizes the cross-validated sum of squared residuals \n",
    "(or some other measure)."
   ]
  },
  {
   "cell_type": "code",
   "execution_count": null,
   "id": "63b3f19f-93d3-48e1-98ff-308ec67a1d02",
   "metadata": {},
   "outputs": [],
   "source": []
  },
  {
   "cell_type": "code",
   "execution_count": null,
   "id": "0055d43c-2755-4cda-98aa-b6e2cd9e61a9",
   "metadata": {},
   "outputs": [],
   "source": [
    "Q3. What are the advantages and disadvantages of Elastic Net Regression?"
   ]
  },
  {
   "cell_type": "markdown",
   "id": "4ebddd6a-ebbc-4c27-a7a1-689bf5871f84",
   "metadata": {},
   "source": [
    "ANS-"
   ]
  },
  {
   "cell_type": "code",
   "execution_count": null,
   "id": "7396c16c-b35c-41bc-a2c9-bda5d7e9a337",
   "metadata": {},
   "outputs": [],
   "source": [
    "Elastic net regression has several advantages over lasso and ridge regression, depending on the data and the problem. \n",
    "For instance, it can handle multicollinearity better than lasso regression by grouping correlated features and selecting the most \n",
    "representative ones. Elastic net regression can also handle situations where the number of predictors is greater than the number of\n",
    "observations.\n",
    "\n",
    "However, elastic net regression has some drawbacks compared to lasso and ridge regression, such as requiring more computational resources \n",
    "and time due to two regularization parameters and a cross-validation process."
   ]
  },
  {
   "cell_type": "code",
   "execution_count": null,
   "id": "b38120af-764a-4cad-88d5-d40ae6f0a7b9",
   "metadata": {},
   "outputs": [],
   "source": []
  },
  {
   "cell_type": "code",
   "execution_count": null,
   "id": "6363e87f-5934-4e7d-aad9-dfc8be429f87",
   "metadata": {},
   "outputs": [],
   "source": [
    "Q4. What are some common use cases for Elastic Net Regression?"
   ]
  },
  {
   "cell_type": "markdown",
   "id": "5454ed1b-b689-4d09-9edf-e86bc15d60e5",
   "metadata": {},
   "source": [
    "ANS-"
   ]
  },
  {
   "cell_type": "code",
   "execution_count": null,
   "id": "f8fbac6a-77b6-4edd-977f-b3888aabbcc6",
   "metadata": {},
   "outputs": [],
   "source": [
    "Elastic Net Regression is a powerful technique that can be applied to a variety of fields and industries. Some common use cases for\n",
    "Elastic Net Regression include:\n",
    "\n",
    "Identifying biomarkers and genes associated with diseases or traits in bioinformatics.\n",
    "\n",
    "1.Modeling the risk and return of portfolios in finance.\n",
    "2.Metric learning.\n",
    "3.Portfolio optimization.\n",
    "4.Cancer prognosis"
   ]
  },
  {
   "cell_type": "code",
   "execution_count": null,
   "id": "f9d5b552-67a5-49ad-978e-68bb47eff7b1",
   "metadata": {},
   "outputs": [],
   "source": []
  },
  {
   "cell_type": "code",
   "execution_count": null,
   "id": "8ff361d8-97ee-4f77-badf-7d11f2d63c83",
   "metadata": {},
   "outputs": [],
   "source": [
    "Q5. How do you interpret the coefficients in Elastic Net Regression?"
   ]
  },
  {
   "cell_type": "markdown",
   "id": "34316616-5a71-4762-bbaa-63fc96c64880",
   "metadata": {},
   "source": [
    "ANS-"
   ]
  },
  {
   "cell_type": "code",
   "execution_count": null,
   "id": "8b65c5e6-a026-43e6-97a0-bb609fab7dd2",
   "metadata": {},
   "outputs": [],
   "source": [
    "The coefficients in Elastic Net Regression are interpreted similarly to those in linear regression. The coefficients represent the change\n",
    "in the response variable for a one-unit change in the predictor variable while holding all other predictor variables constant."
   ]
  },
  {
   "cell_type": "code",
   "execution_count": null,
   "id": "006d6150-2957-4493-8e08-0c55218fdf64",
   "metadata": {},
   "outputs": [],
   "source": []
  },
  {
   "cell_type": "code",
   "execution_count": null,
   "id": "430be8fc-bdb9-42f0-9b7c-6286b32ff710",
   "metadata": {},
   "outputs": [],
   "source": [
    "Q6. How do you handle missing values when using Elastic Net Regression?"
   ]
  },
  {
   "cell_type": "markdown",
   "id": "8074b3eb-2802-47a3-b2a4-da6c2281a52b",
   "metadata": {},
   "source": [
    "ANS-"
   ]
  },
  {
   "cell_type": "code",
   "execution_count": null,
   "id": "f50b1378-0117-4930-ac8f-a117c0426b77",
   "metadata": {},
   "outputs": [],
   "source": [
    "There are several ways to handle missing values when using Elastic Net Regression. One way is to remove the rows with missing values.\n",
    "Another way is to impute the missing values using methods such as mean imputation, median imputation, or regression imputation."
   ]
  },
  {
   "cell_type": "code",
   "execution_count": null,
   "id": "cfa151c0-f3ac-408b-801a-878192f995c8",
   "metadata": {},
   "outputs": [],
   "source": []
  },
  {
   "cell_type": "code",
   "execution_count": null,
   "id": "0f7331f0-439e-4e82-a586-aaa8640f2c9c",
   "metadata": {},
   "outputs": [],
   "source": [
    "Q7. How do you use Elastic Net Regression for feature selection?"
   ]
  },
  {
   "cell_type": "markdown",
   "id": "c4bcf489-c3d9-49c4-bf44-38c8b2766ccf",
   "metadata": {},
   "source": [
    "ANS-"
   ]
  },
  {
   "cell_type": "code",
   "execution_count": null,
   "id": "060c5a8d-0f8a-4fe4-bfd6-08cf1c0248b9",
   "metadata": {},
   "outputs": [],
   "source": [
    "Elastic Net Regression can be used for feature selection by setting the regularization parameter λ to be sufficiently large. \n",
    "This will cause some of the coefficients to be shrunk to zero, effectively removing the corresponding features from the model.\n",
    "The remaining features are then considered the most important predictors of the response variable."
   ]
  },
  {
   "cell_type": "code",
   "execution_count": null,
   "id": "631625e6-12e2-4978-a9c1-c6ebadd39f6d",
   "metadata": {},
   "outputs": [],
   "source": []
  },
  {
   "cell_type": "code",
   "execution_count": null,
   "id": "5aa7af6b-7557-43ca-a99c-c8ed7a035453",
   "metadata": {},
   "outputs": [],
   "source": [
    "Q8. How do you pickle and unpickle a trained Elastic Net Regression model in Python?"
   ]
  },
  {
   "cell_type": "markdown",
   "id": "13c3e4b2-2354-4509-880d-5eecb6aca942",
   "metadata": {},
   "source": [
    "ANS-"
   ]
  },
  {
   "cell_type": "code",
   "execution_count": null,
   "id": "2cd4d840-33e2-4fae-8e53-ee95fe0bc5cd",
   "metadata": {},
   "outputs": [],
   "source": [
    "Here is an example of how to pickle a trained Elastic Net Regression model:"
   ]
  },
  {
   "cell_type": "code",
   "execution_count": null,
   "id": "f830b9fa-122f-46cb-aa85-336f85ed0248",
   "metadata": {},
   "outputs": [],
   "source": [
    "import pickle\n",
    "from sklearn.linear_model import ElasticNet\n",
    "\n",
    "# Train the model\n",
    "model = ElasticNet(alpha=0.1, l1_ratio=0.5)\n",
    "model.fit(X_train, y_train)\n",
    "\n",
    "# Save the model to disk\n",
    "filename = 'elastic_net_model.sav'\n",
    "pickle.dump(model, open(filename, 'wb'))\n",
    "\n",
    "# Load the model from disk\n",
    "loaded_model = pickle.load(open(filename, 'rb'))\n",
    "\n",
    "# Use the loaded model to make predictions\n",
    "y_pred = loaded_model.predict(X_test)\n"
   ]
  },
  {
   "cell_type": "code",
   "execution_count": null,
   "id": "d1608e1a-e647-48f1-82e4-5299db538f2f",
   "metadata": {},
   "outputs": [],
   "source": [
    "In this example, we first train an Elastic Net Regression model on some training data. We then save the model to disk using the \n",
    "pickle.dump() function. To load the model from disk, we use the pickle.load() function. We can then use the loaded model to make predictions \n",
    "on some test data."
   ]
  },
  {
   "cell_type": "code",
   "execution_count": null,
   "id": "9b761ef9-be7f-4017-a90b-581c8f9aad42",
   "metadata": {},
   "outputs": [],
   "source": []
  },
  {
   "cell_type": "code",
   "execution_count": null,
   "id": "b05beac9-23b6-4319-946b-28d14cb819e9",
   "metadata": {},
   "outputs": [],
   "source": [
    "Q9. What is the purpose of pickling a model in machine learning?"
   ]
  },
  {
   "cell_type": "markdown",
   "id": "ae80acad-6b4a-45a7-9ee4-702685847250",
   "metadata": {},
   "source": [
    "ANS-"
   ]
  },
  {
   "cell_type": "code",
   "execution_count": null,
   "id": "7e4fca81-2914-4ac0-882a-5c4c35ee3d6f",
   "metadata": {},
   "outputs": [],
   "source": [
    "The purpose of pickling a model in machine learning is to save the trained model to disk so that it can be used later without \n",
    "having to retrain it. This can be useful when you have a large dataset and it takes a long time to train the model. \n",
    "By pickling the model, you can save it to disk and load it later when you need to make predictions on new data."
   ]
  }
 ],
 "metadata": {
  "kernelspec": {
   "display_name": "Python 3 (ipykernel)",
   "language": "python",
   "name": "python3"
  },
  "language_info": {
   "codemirror_mode": {
    "name": "ipython",
    "version": 3
   },
   "file_extension": ".py",
   "mimetype": "text/x-python",
   "name": "python",
   "nbconvert_exporter": "python",
   "pygments_lexer": "ipython3",
   "version": "3.10.8"
  }
 },
 "nbformat": 4,
 "nbformat_minor": 5
}
